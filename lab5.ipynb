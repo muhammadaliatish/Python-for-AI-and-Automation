{
 "cells": [
  {
   "cell_type": "code",
   "execution_count": 3,
   "id": "221a6788-a86e-484b-af54-0bd52f671888",
   "metadata": {},
   "outputs": [
    {
     "name": "stdout",
     "output_type": "stream",
     "text": [
      "<class 'bool'>\n",
      "22\n"
     ]
    },
    {
     "name": "stdin",
     "output_type": "stream",
     "text": [
      "Enter your first Name muhammd li\n",
      "Enter your last name li\n"
     ]
    },
    {
     "name": "stdout",
     "output_type": "stream",
     "text": [
      "17\n",
      "8\n",
      "4\n",
      "True\n"
     ]
    }
   ],
   "source": [
    "name = \"Abrar Hussain\"\n",
    "num = 15\n",
    "myWeight = 70.5\n",
    "habit = True\n",
    "\n",
    "\n",
    "print(  type( habit )    )\n",
    "\n",
    "\n",
    "#######################\n",
    "# EXAMPLE TWO\n",
    "######################\n",
    "num1 = \"15\"\n",
    "num2 = 7\n",
    "\n",
    "num1_i = int( num1 )\n",
    "\n",
    "result  =  int( num1 )  + num2\n",
    "result  =  num1_i   + num2\n",
    "\n",
    "print(result)\n",
    "\n",
    "#######################\n",
    "# EXAMPLE THREE\n",
    "######################\n",
    "\n",
    "a = input( \"Enter your first Name\" )\n",
    "b = input( \"Enter your last name\" )\n",
    "\n",
    "result = 10 + 5 * 2 - 3\n",
    "print( result )\n",
    "\n",
    "# Brackets\n",
    "# Exponents\n",
    "# Division/Multiplication\n",
    "# Plus / Minus\n",
    "\n",
    "power = 2 ** 3   # 2*2*2\n",
    "\n",
    "print( power )\n",
    "\n",
    "\n",
    "modulus = 21  //   5\n",
    "print( modulus )\n",
    "\n",
    "print( 2 != 8 )\n",
    "\n",
    "\n"
   ]
  },
  {
   "cell_type": "code",
   "execution_count": 4,
   "id": "e60c90d3-fa07-453b-b5c6-82e3fb1c7fbf",
   "metadata": {},
   "outputs": [
    {
     "name": "stdout",
     "output_type": "stream",
     "text": [
      "22\n"
     ]
    }
   ],
   "source": [
    "num1 = 15\n",
    "num2 = 7\n",
    "\n",
    "result  =  num1 + num2\n",
    "\n",
    "print(result)"
   ]
  },
  {
   "cell_type": "code",
   "execution_count": null,
   "id": "d962c9a6-6835-44dc-9ddd-0227729d0fc2",
   "metadata": {},
   "outputs": [],
   "source": []
  }
 ],
 "metadata": {
  "kernelspec": {
   "display_name": "Python 3 (ipykernel)",
   "language": "python",
   "name": "python3"
  },
  "language_info": {
   "codemirror_mode": {
    "name": "ipython",
    "version": 3
   },
   "file_extension": ".py",
   "mimetype": "text/x-python",
   "name": "python",
   "nbconvert_exporter": "python",
   "pygments_lexer": "ipython3",
   "version": "3.11.7"
  }
 },
 "nbformat": 4,
 "nbformat_minor": 5
}
