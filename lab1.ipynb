{
 "cells": [
  {
   "cell_type": "code",
   "execution_count": 1,
   "id": "b453f89e-5384-42e2-a481-f3a0cb9f3a58",
   "metadata": {},
   "outputs": [
    {
     "name": "stdout",
     "output_type": "stream",
     "text": [
      "hello WOrld \n"
     ]
    }
   ],
   "source": [
    "print (\"hello WOrld \")"
   ]
  },
  {
   "cell_type": "code",
   "execution_count": 5,
   "id": "4314ac99-72c1-4972-b025-9d54b6274448",
   "metadata": {},
   "outputs": [
    {
     "name": "stdout",
     "output_type": "stream",
     "text": [
      "My Fav number is : 15\n",
      "My fav number is : 15\n",
      "My favourite number is: 15\n",
      "My Name is Abrar Hussain and I am 22 years old and my fav color is green\n",
      "Abrar Hussain\n",
      "Tunio\n",
      "Abrar Hussain\n",
      "Abrar Hussain Tunio\n"
     ]
    }
   ],
   "source": [
    "name = 'CodePro'\n",
    "num1 = 15\n",
    "volume = 12.0\n",
    "boolean = False\n",
    "\n",
    "\n",
    "print( \"My Fav number is :\" , num1 )\n",
    "print( f\"My fav number is : {num1}\" )\n",
    "print(\"My favourite number is: {}\".format(num1)  )\n",
    "\n",
    "name  =  \"Abrar Hussain\"\n",
    "age   = 22\n",
    "fav_color  =  \"green\"\n",
    "\n",
    "print( f\"My Name is {name} and I am {age} years old and my fav color is {fav_color}\" )\n",
    "\n",
    "myName = \"CodePro\"\n",
    "MyName = \"Abrar Hussain\"\n",
    "myName = \"Unknown\"\n",
    "\n",
    "print( MyName )\n",
    "\n",
    "myName = \"Abrar Hussain\"\n",
    "surname = \"Tunio\"\n",
    "myName , surname      =    surname , myName\n",
    "\n",
    "print( myName )\n",
    "print( surname )\n",
    "\n",
    "\n",
    "myName = \"Abrar Hussain\"\n",
    "surname = \"Tunio\"\n",
    "\n",
    "fullName = myName + \" \" + surname\n",
    "print(fullName)\n",
    "\n",
    "\n",
    "\n",
    "\n"
   ]
  },
  {
   "cell_type": "code",
   "execution_count": null,
   "id": "5eec24ee-daaa-4b71-9533-5512f822c361",
   "metadata": {},
   "outputs": [],
   "source": []
  }
 ],
 "metadata": {
  "kernelspec": {
   "display_name": "Python 3 (ipykernel)",
   "language": "python",
   "name": "python3"
  },
  "language_info": {
   "codemirror_mode": {
    "name": "ipython",
    "version": 3
   },
   "file_extension": ".py",
   "mimetype": "text/x-python",
   "name": "python",
   "nbconvert_exporter": "python",
   "pygments_lexer": "ipython3",
   "version": "3.11.7"
  }
 },
 "nbformat": 4,
 "nbformat_minor": 5
}
