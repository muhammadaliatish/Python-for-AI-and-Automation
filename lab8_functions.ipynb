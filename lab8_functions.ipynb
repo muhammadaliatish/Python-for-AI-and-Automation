{
 "cells": [
  {
   "cell_type": "code",
   "execution_count": 1,
   "id": "dc2a77a7-28f1-4759-8dd6-0d0b2d624ef6",
   "metadata": {},
   "outputs": [
    {
     "name": "stdin",
     "output_type": "stream",
     "text": [
      "Enter your first number 2252\n",
      "Enter your second number 2552\n",
      "Enter arithmetic operation /\n"
     ]
    },
    {
     "name": "stdout",
     "output_type": "stream",
     "text": [
      "0.8824451410658307\n"
     ]
    }
   ],
   "source": [
    "# 1 Defining a function\n",
    "\n",
    "# def greet( gender,  name  ):\n",
    "#  return f\"Welcome {gender}. {name}\"\n",
    "\n",
    "\n",
    "# # 2 Calling and using a function\n",
    "# greetStudent1 = greet( \"Mr\", \"Fayaz\" )\n",
    "# greetStudent2 = greet( \"Mr\", \"Abrar\" )\n",
    "# greetStudent3 = greet( \"Ms\", \"Nosheen\" )\n",
    "# print( greetStudent1 )\n",
    "# print( greetStudent2 )\n",
    "# print( greetStudent3 )\n",
    "\n",
    "\n",
    "def calc( ops , a , b ) :\n",
    " a = int(a)\n",
    " b = int(b)\n",
    " if ( ops == \"+\" ):\n",
    "  return a + b\n",
    " elif ( ops == \"-\" ):\n",
    "  return a - b\n",
    " elif ( ops == \"*\" ):\n",
    "  return a * b\n",
    " elif ( ops == \"/\" ):\n",
    "  return a / b\n",
    "\n",
    "num1 = input( \"Enter your first number\" )\n",
    "num2 = input( \"Enter your second number\" )\n",
    "ops = input( \"Enter arithmetic operation\" )\n",
    "\n",
    "result = calc( ops , num1 , num2 )\n",
    "print(result)\n"
   ]
  },
  {
   "cell_type": "code",
   "execution_count": 2,
   "id": "506e984f-a770-4223-944c-66f67825ef66",
   "metadata": {},
   "outputs": [
    {
     "name": "stdout",
     "output_type": "stream",
     "text": [
      "[1, 4, 9, 16, 25]\n"
     ]
    }
   ],
   "source": [
    "# def square(  num  ):\n",
    "#  num = int( num )\n",
    "#  return f\"The Square of provided number is {num*num}\"\n",
    "\n",
    "# number = input( \"Enter your fav number: \" )\n",
    "# result = square( number ) \n",
    "\n",
    "# print( result )\n",
    "\n",
    "\n",
    "# def power( num , expo=2 ):\n",
    "#  return f\"The exponented value of {num} is: { num**expo }\"\n",
    "\n",
    "# result = power( 5 , 3 )\n",
    "# print( result )\n",
    "\n",
    "# def sum_all(*numbers):\n",
    "#     return sum(numbers)\n",
    "\n",
    "# print( sum_all( 1 , 2,  3 )  )\n",
    "\n",
    "\n",
    "# square = lambda x: x * x\n",
    "# print( square(5) )\n",
    "\n",
    "numbers = [1, 2, 3, 4, 5]\n",
    "\n",
    "squared = list(   map(  lambda x: x ** 2, numbers  )  )\n",
    "\n",
    "print(squared)  # Output: [1, 4, 9, 16, 25]"
   ]
  },
  {
   "cell_type": "code",
   "execution_count": 3,
   "id": "3e50d579-990b-4d09-a21a-21adf4203a4c",
   "metadata": {},
   "outputs": [
    {
     "name": "stdout",
     "output_type": "stream",
     "text": [
      "The charcaters in string are:  18\n"
     ]
    }
   ],
   "source": [
    "string = \"Welcome to codepro\"\n",
    "\n",
    "strLength = len( string  )\n",
    "\n",
    "print( \"The charcaters in string are: \" , strLength  )"
   ]
  },
  {
   "cell_type": "code",
   "execution_count": 4,
   "id": "28f62eb4-68b9-4ff5-9664-59c3ad437d4b",
   "metadata": {},
   "outputs": [
    {
     "name": "stdout",
     "output_type": "stream",
     "text": [
      "10\n"
     ]
    }
   ],
   "source": [
    "def example():\n",
    "    x = 10  # Local variable\n",
    "    print(x)\n",
    "\n",
    "\n",
    "example()\n",
    "# print(x)  # Error! x is not accessible outside the function"
   ]
  },
  {
   "cell_type": "code",
   "execution_count": 5,
   "id": "6cef0a7d-ade0-46a6-a2d6-fe8e185b47d0",
   "metadata": {},
   "outputs": [
    {
     "name": "stdout",
     "output_type": "stream",
     "text": [
      "Welcome Student Rasikh\n",
      "Welcome Student Nimra\n",
      "Welcome Student Zahid\n",
      "Welcome Student Hamna\n"
     ]
    }
   ],
   "source": [
    "# Defining a function\n",
    "def greet( name ):\n",
    " return f\"Welcome Student {name}\"\n",
    "\n",
    "#calling a function\n",
    "st1 = greet( \"Rasikh\"  )\n",
    "st2 = greet( \"Nimra\"  )\n",
    "st3 = greet( \"Zahid\"  )\n",
    "st4 = greet( \"Hamna\"  )\n",
    "print( st1  )\n",
    "print( st2 )\n",
    "print( st3  )\n",
    "print( st4  )"
   ]
  },
  {
   "cell_type": "code",
   "execution_count": null,
   "id": "60c6ed7e-7102-402e-9bc3-b484b03199a9",
   "metadata": {},
   "outputs": [],
   "source": []
  }
 ],
 "metadata": {
  "kernelspec": {
   "display_name": "Python 3 (ipykernel)",
   "language": "python",
   "name": "python3"
  },
  "language_info": {
   "codemirror_mode": {
    "name": "ipython",
    "version": 3
   },
   "file_extension": ".py",
   "mimetype": "text/x-python",
   "name": "python",
   "nbconvert_exporter": "python",
   "pygments_lexer": "ipython3",
   "version": "3.11.7"
  }
 },
 "nbformat": 4,
 "nbformat_minor": 5
}
