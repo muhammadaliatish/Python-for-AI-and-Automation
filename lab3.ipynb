{
 "cells": [
  {
   "cell_type": "code",
   "execution_count": 1,
   "id": "d3bbaef8-ac59-4983-922a-3b07694f56d3",
   "metadata": {},
   "outputs": [
    {
     "name": "stdout",
     "output_type": "stream",
     "text": [
      "My height is 14.5\n",
      "My height is 14.5 and my age is 34\n",
      "My height is 14.5 and my age is 34\n",
      "Fayaz\n",
      "Abrar\n",
      "The value of pi is: 3.142\n",
      "<class 'str'>\n",
      "<class 'int'>\n",
      "<class 'bool'>\n"
     ]
    }
   ],
   "source": [
    "name = ''' Now I can write \n",
    "Pragraphs in this ... ''' #string\n",
    "\n",
    "age = 15 #integer\n",
    "volume = 14.2 #float \n",
    "boolean = False #Boolean\n",
    "string = 'False' #string\n",
    "\n",
    "name = \"Abrar Hussain\"\n",
    "age = 35\n",
    "fav_color = \"blue\"\n",
    "\n",
    "height = 14.5\n",
    "age = 34\n",
    "\n",
    "print(\"My height is\",height)\n",
    "print(f\"My height is {height} and my age is {age}\")\n",
    "print(\"My height is {} and my age is {}\".format(height , age))\n",
    "\n",
    "a = \"Abrar\"\n",
    "b = \"Fayaz\"\n",
    "\n",
    "a , b = b , a\n",
    "\n",
    "print(a)\n",
    "print(b)\n",
    "\n",
    "pi = 3.142\n",
    "print( \"The value of pi is:\" , pi )\n",
    "\n",
    "\n",
    "print( type( name )  )\n",
    "print( type( age )  )\n",
    "print( type( boolean )  )"
   ]
  },
  {
   "cell_type": "code",
   "execution_count": null,
   "id": "0372121b-a257-4cb1-883c-ec0f0ba8ebd5",
   "metadata": {},
   "outputs": [],
   "source": []
  }
 ],
 "metadata": {
  "kernelspec": {
   "display_name": "Python 3 (ipykernel)",
   "language": "python",
   "name": "python3"
  },
  "language_info": {
   "codemirror_mode": {
    "name": "ipython",
    "version": 3
   },
   "file_extension": ".py",
   "mimetype": "text/x-python",
   "name": "python",
   "nbconvert_exporter": "python",
   "pygments_lexer": "ipython3",
   "version": "3.11.7"
  }
 },
 "nbformat": 4,
 "nbformat_minor": 5
}
