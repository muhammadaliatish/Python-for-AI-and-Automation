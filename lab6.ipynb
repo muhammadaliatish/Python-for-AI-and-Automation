{
 "cells": [
  {
   "cell_type": "code",
   "execution_count": 1,
   "id": "404bf871-a859-4d26-96b6-4e7f14ac438c",
   "metadata": {},
   "outputs": [
    {
     "name": "stdout",
     "output_type": "stream",
     "text": [
      "<class 'bool'>\n",
      "True\n"
     ]
    }
   ],
   "source": [
    "\n",
    "name = \"Abrar Hussain\"\n",
    "num = 15\n",
    "myWeight = 70.5\n",
    "habit = True\n",
    "\n",
    "\n",
    "\n",
    "print(  type( habit )    )\n",
    "\n",
    "\n"
   ]
  },
  {
   "cell_type": "code",
   "execution_count": 2,
   "id": "4fe91ffd-8bd5-4e9a-aeae-c752de53668a",
   "metadata": {},
   "outputs": [
    {
     "name": "stdout",
     "output_type": "stream",
     "text": [
      "22\n",
      "True\n"
     ]
    }
   ],
   "source": [
    "#######################\n",
    "# EXAMPLE TWO\n",
    "######################\n",
    "num1 = \"15\"\n",
    "num2 = 7\n",
    "\n",
    "num1_i = int( num1 )\n",
    "\n",
    "result  =  int( num1 )  + num2\n",
    "result  =  num1_i   + num2\n",
    "\n",
    "print(result)\n",
    "\n"
   ]
  },
  {
   "cell_type": "code",
   "execution_count": 5,
   "id": "a25bbd0a-85da-4a95-846b-43fa464d8671",
   "metadata": {},
   "outputs": [
    {
     "name": "stdin",
     "output_type": "stream",
     "text": [
      "Enter your first Name Muhammad \n",
      "Enter your last name Ali\n"
     ]
    },
    {
     "name": "stdout",
     "output_type": "stream",
     "text": [
      "17\n",
      "8\n",
      "4\n",
      "True\n"
     ]
    }
   ],
   "source": [
    "#######################\n",
    "# EXAMPLE THREE\n",
    "######################\n",
    "\n",
    "a = input( \"Enter your first Name\" )\n",
    "b = input( \"Enter your last name\" )\n",
    "\n",
    "result = 10 + 5 * 2 - 3\n",
    "print( result )\n",
    "\n",
    "# Brackets\n",
    "# Exponents\n",
    "# Division/Multiplication\n",
    "# Plus / Minus\n",
    "\n",
    "power = 2 ** 3   # 2*2*2\n",
    "\n",
    "print( power )\n",
    "modulus = 21 // 5\n",
    "print( modulus )\n",
    "\n",
    "print( 2 != 8 )"
   ]
  },
  {
   "cell_type": "code",
   "execution_count": null,
   "id": "ac71490a-3eaf-4a64-91e2-ff90832a163c",
   "metadata": {},
   "outputs": [],
   "source": []
  }
 ],
 "metadata": {
  "kernelspec": {
   "display_name": "Python 3 (ipykernel)",
   "language": "python",
   "name": "python3"
  },
  "language_info": {
   "codemirror_mode": {
    "name": "ipython",
    "version": 3
   },
   "file_extension": ".py",
   "mimetype": "text/x-python",
   "name": "python",
   "nbconvert_exporter": "python",
   "pygments_lexer": "ipython3",
   "version": "3.11.7"
  }
 },
 "nbformat": 4,
 "nbformat_minor": 5
}
