{
 "cells": [
  {
   "cell_type": "code",
   "execution_count": 14,
   "id": "8264b47b-e11e-42d3-a9dd-43986f1d211a",
   "metadata": {},
   "outputs": [
    {
     "name": "stdout",
     "output_type": "stream",
     "text": [
      "The result of expression is: 37\n",
      "10\n",
      "stringis  fivefivefivefivefive\n",
      "Code Pro\n",
      "27\n",
      "3.4\n"
     ]
    }
   ],
   "source": [
    "x = 22\n",
    "y = 15\n",
    "zed = x + y\n",
    "\n",
    "print( \"The result of expression is:\", zed)\n",
    "\n",
    "#Task 1\n",
    "a = 5\n",
    "b = 2\n",
    "\n",
    "total = a * b\n",
    "print( total )\n",
    "\n",
    "#Task 1.1\n",
    "\n",
    "a = \"five\"\n",
    "b = 5\n",
    "\n",
    "print(\"stringis \", a * b )\n",
    "\n",
    "#Task 2\n",
    "\n",
    "halfOne = \"Code\"\n",
    "halfTwo = \"Pro\"\n",
    "\n",
    "house = halfOne + \" \" + halfTwo\n",
    "print( house )\n",
    "\n",
    "\n",
    "#Task 3\n",
    "\n",
    "length = 15\n",
    "width  = 7\n",
    "\n",
    "area = (10 + 5) * 2 - 3\n",
    "print(area)\n",
    "\n",
    "# What is precedence\n",
    "#1- Power / Exponent\n",
    "# 2- Brackets\n",
    "# 3- Divide\n",
    "# 4- Multiply\n",
    "# 5- Addition or Subtraction\n",
    "\n",
    "# print( area )\n",
    "\n",
    "# Arithmetic Operators\n",
    "\n",
    "num1 = 17\n",
    "num2 = 5\n",
    "print(  num1 / num2   )"
   ]
  },
  {
   "cell_type": "code",
   "execution_count": null,
   "id": "503ebc7a-3f16-4358-aa83-0d14bf00645f",
   "metadata": {},
   "outputs": [],
   "source": []
  }
 ],
 "metadata": {
  "kernelspec": {
   "display_name": "Python 3 (ipykernel)",
   "language": "python",
   "name": "python3"
  },
  "language_info": {
   "codemirror_mode": {
    "name": "ipython",
    "version": 3
   },
   "file_extension": ".py",
   "mimetype": "text/x-python",
   "name": "python",
   "nbconvert_exporter": "python",
   "pygments_lexer": "ipython3",
   "version": "3.11.7"
  }
 },
 "nbformat": 4,
 "nbformat_minor": 5
}
