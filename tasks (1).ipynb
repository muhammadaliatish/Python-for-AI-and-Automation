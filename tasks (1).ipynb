{
 "cells": [
  {
   "cell_type": "code",
   "execution_count": 37,
   "id": "d7b41615-cd91-438f-9682-5c6b76c56f12",
   "metadata": {},
   "outputs": [],
   "source": [
    "#Hands-on Exercises:\n",
    "#1.\tCreate variables to store your name, age, and favorite color.\n",
    "#2.\tAssign integer and floating-point values to two different variables and print them.\n",
    "#3.\tSwap two variables without using a third variable.\n",
    "#4.\tCreate a variable to store the value of Pi (3.14159) and print it.\n",
    "#5.\tAssign a boolean value to a variable and print its type using type().\n",
    "#6.\tType conversion Needs to be added in notes!\n",
    "\n"
   ]
  },
  {
   "cell_type": "code",
   "execution_count": 38,
   "id": "f768d238-8a54-417e-b475-697f4eec2cad",
   "metadata": {},
   "outputs": [
    {
     "name": "stdout",
     "output_type": "stream",
     "text": [
      "my name is MUHAMMAD ALI AGE IS  20 FAVORITE COLOR IS  GREEN\n",
      "12 3.433\n",
      "3.433 12\n",
      "value of pi is  3.14159\n",
      "Boolean Value: True Type: <class 'bool'>\n",
      "Integer to Float: 10.0\n",
      "Float to Integer: 5\n",
      "Number to String: 10\n",
      "String to Integer: 15\n"
     ]
    }
   ],
   "source": [
    "NAME = \"MUHAMMAD ALI\";\n",
    "AGE = 20;\n",
    "FAV_COLOR = \"GREEN\";\n",
    "print (\"my name is\",NAME ,\"AGE IS \", AGE, \"FAVORITE COLOR IS \", FAV_COLOR)\n",
    "\n",
    "a = 12;\n",
    "b = 3.433\n",
    "print(a,b)\n",
    "a= 3.433;\n",
    "b=12;\n",
    "print (a,b)\n",
    "pi = 3.14159;\n",
    "print(\"value of pi is \",pi)\n",
    "\n",
    "mrk_is = True\n",
    "print(\"Boolean Value:\", mrk_is, \"Type:\", type(mrk_is))\n",
    "\n",
    "# - Converting integer to float\n",
    "num = 10\n",
    "num_float = float(num)\n",
    "print(\"Integer to Float:\", num_float)\n",
    "\n",
    "# - Converting float to integer\n",
    "decimal_num = 5.9\n",
    "decimal_int = int(decimal_num)\n",
    "print(\"Float to Integer:\", decimal_int)\n",
    "\n",
    "# - Converting number to string\n",
    "num_str = str(num)\n",
    "print(\"Number to String:\", num_str)\n",
    "\n",
    "# - Converting string to integer\n",
    "str_num = \"15\"\n",
    "str_to_int = int(str_num)\n",
    "print(\"String to Integer:\", str_to_int)\n",
    "\n"
   ]
  },
  {
   "cell_type": "code",
   "execution_count": 16,
   "id": "c9ff2789-f47a-48d4-807e-7641dafc7da4",
   "metadata": {},
   "outputs": [
    {
     "name": "stdout",
     "output_type": "stream",
     "text": [
      "multiple of two number is  180\n",
      "well come to python programming\n",
      "area of rectangle is  782\n",
      "-15\n",
      "temp in fahrenheit =  213.8\n"
     ]
    }
   ],
   "source": [
    "#Hands-on Exercises:\n",
    "#1.\tCreate an expression that multiplies two numbers and stores the result in a variable.\n",
    "#2.\tCombine a string variable with another string using concatenation.\n",
    "#3.\tUse an expression to calculate the area of a rectangle (length * width).\n",
    "#4.\tEvaluate the expression (10 + 5) * 2 - 3 and print the result.\n",
    "#5.\tWrite an expression that converts temperature from Celsius to Fahrenheit using the formula F = C * 9/5 + 32.\n",
    "a = 4;\n",
    "b = 45;\n",
    "c = a*b;\n",
    "print(\"multiple of two number is \", c)\n",
    "e = \"well come \";\n",
    "f = \"to python programming\";\n",
    "print(e+f)\n",
    "length_rec = 34;\n",
    "width_rec = 23;\n",
    "area_rec = length_rec * width_rec;\n",
    "print(\"area of rectangle is \", area_rec)\n",
    "h=10+5;\n",
    "g=2-3;\n",
    "i= g*h;\n",
    "print(i)\n",
    "temp_c=34;\n",
    "temp__f = c + 9/5 +32;\n",
    "print(\"temp in fahrenheit = \",temp__f)"
   ]
  },
  {
   "cell_type": "code",
   "execution_count": 21,
   "id": "63d54d71-a0b8-4610-ab09-2d6c06407500",
   "metadata": {},
   "outputs": [
    {
     "name": "stdout",
     "output_type": "stream",
     "text": [
      "sum is  144 difference is  -76 division is 3740\n",
      "6.25\n",
      "7\n",
      "32\n",
      "148.0\n"
     ]
    }
   ],
   "source": [
    "#Hands-on Exercises:\n",
    "#1.\tCompute the sum, difference, and product of two numbers.\n",
    "#2.\tPerform floor division between 25 and 4, then print the result.\n",
    "#3.\tCompute the remainder when 50 is divided by 7.\n",
    "#4.\tUse exponentiation to calculate 2^5.\n",
    "#5.\tWrite an expression that calculates the average of three numbers.\n",
    "\n",
    "k = 34;\n",
    "l = 110;\n",
    "m= 12;\n",
    "sum = k+l;\n",
    "sub = k-l;\n",
    "div = k*l;\n",
    "print(\"sum is \", sum, \"difference is \", sub, \"division is\",div) \n",
    "print(25/4)\n",
    "print(50//7)\n",
    "print(2**5)\n",
    "avg = k+l+m/3;\n",
    "print(avg)\n"
   ]
  },
  {
   "cell_type": "code",
   "execution_count": 34,
   "id": "59615a00-828b-4855-8d03-8d3a695973dd",
   "metadata": {},
   "outputs": [
    {
     "name": "stdout",
     "output_type": "stream",
     "text": [
      "False\n",
      "True\n",
      "122 number is greater than 100\n",
      "str1=str2 False\n",
      "24 person is eligible of vote\n",
      "x < y: True\n",
      "y > z: True\n",
      "x < z: True\n"
     ]
    }
   ],
   "source": [
    "#Hands-on Exercises:\n",
    "#1.\tCompare two numbers using == and != and print the results.\n",
    "#2.\tCheck if a number is greater than 100.\n",
    "#3.\tCompare the length of two strings.\n",
    "#4.\tUse >= to check if a person is eligible to vote (age >= 18).\n",
    "#5.\tCompare the values of three different variables using > and <.\n",
    "print(5==6)\n",
    "print(5!=6)\n",
    "num=122;\n",
    "if num>100:\n",
    "    print(num,\"number is greater than 100\")\n",
    "else:\n",
    "    print(\"number is lessthan 100\")\n",
    "str1 = \"Muhammad\";\n",
    "str2 = \"ali\";\n",
    "print(\"str1=str2\", len(str1)==len(str2))\n",
    "age = 24;\n",
    "if age>=18:\n",
    "    print(age,\"person is eligible of vote\")\n",
    "else:\n",
    "    print(age,\"person is not eligible for vote\")\n",
    "\n",
    "x = 5\n",
    "y = 15\n",
    "z = 10\n",
    "print(\"x < y:\", x < y) \n",
    "print(\"y > z:\", y > z) \n",
    "print(\"x < z:\", x < z)\n",
    "\n",
    "\n"
   ]
  },
  {
   "cell_type": "code",
   "execution_count": null,
   "id": "61ca4950-2dc6-47b6-9d67-2f38ab182cdf",
   "metadata": {},
   "outputs": [],
   "source": []
  }
 ],
 "metadata": {
  "kernelspec": {
   "display_name": "Python 3 (ipykernel)",
   "language": "python",
   "name": "python3"
  },
  "language_info": {
   "codemirror_mode": {
    "name": "ipython",
    "version": 3
   },
   "file_extension": ".py",
   "mimetype": "text/x-python",
   "name": "python",
   "nbconvert_exporter": "python",
   "pygments_lexer": "ipython3",
   "version": "3.11.7"
  }
 },
 "nbformat": 4,
 "nbformat_minor": 5
}
