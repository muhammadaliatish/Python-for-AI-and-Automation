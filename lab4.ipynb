{
 "cells": [
  {
   "cell_type": "code",
   "execution_count": 4,
   "id": "7eab059e-088d-42ba-8662-f6ed89290105",
   "metadata": {},
   "outputs": [
    {
     "name": "stdout",
     "output_type": "stream",
     "text": [
      "<class 'float'> 20.0\n",
      "<class 'str'>\n"
     ]
    }
   ],
   "source": [
    "num1 = \"Fifteen\"\n",
    "num1 = \"20\"\n",
    "\n",
    "num1_s = str(num1)\n",
    "num1_f = float(num1)\n",
    "num1_i = int(num1)\n",
    "\n",
    "print(  type(  num1_f  ) , num1_f)\n",
    "print(  type(  num1  ) )"
   ]
  },
  {
   "cell_type": "code",
   "execution_count": null,
   "id": "83b70525-dad6-47d7-bc43-626cac590141",
   "metadata": {},
   "outputs": [],
   "source": []
  },
  {
   "cell_type": "code",
   "execution_count": null,
   "id": "4499304e-ad48-4ca1-a46c-319e1ca11809",
   "metadata": {},
   "outputs": [],
   "source": []
  },
  {
   "cell_type": "code",
   "execution_count": null,
   "id": "5211093b-104b-44af-ba1c-67ded8f1ef29",
   "metadata": {},
   "outputs": [],
   "source": []
  }
 ],
 "metadata": {
  "kernelspec": {
   "display_name": "Python 3 (ipykernel)",
   "language": "python",
   "name": "python3"
  },
  "language_info": {
   "codemirror_mode": {
    "name": "ipython",
    "version": 3
   },
   "file_extension": ".py",
   "mimetype": "text/x-python",
   "name": "python",
   "nbconvert_exporter": "python",
   "pygments_lexer": "ipython3",
   "version": "3.11.7"
  }
 },
 "nbformat": 4,
 "nbformat_minor": 5
}
