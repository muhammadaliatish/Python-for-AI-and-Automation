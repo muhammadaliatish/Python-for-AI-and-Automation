{
 "cells": [
  {
   "cell_type": "code",
   "execution_count": 1,
   "id": "c8bd3b01-763a-4e77-8770-6702464a071a",
   "metadata": {},
   "outputs": [
    {
     "name": "stdout",
     "output_type": "stream",
     "text": [
      "Lets start making decisions\n",
      "Yes its 10 Now\n",
      "DONE\n"
     ]
    }
   ],
   "source": [
    "print(\"Lets start making decisions\")\n",
    "\n",
    "month = \"Zul Haj\"\n",
    "\n",
    "if month == \"Ramadan\":\n",
    "    print(\"I am fasting\")\n",
    "    print(\"This will also execute if month is Ramadan\")\n",
    "\n",
    "    print(\"I am not fasting!\")\n",
    "\n",
    "x = 10;\n",
    "\n",
    "if x > 10 :\n",
    "    print( \"YES\" )\n",
    "if x == 10:\n",
    "    print(\"Yes its 10 Now\")\n",
    "elif x == 5:\n",
    "    print(\"Yup\")\n",
    "else :\n",
    "    print(\"Finale\")\n",
    " \n",
    "\n",
    "print(\"DONE\")\n"
   ]
  },
  {
   "cell_type": "code",
   "execution_count": 2,
   "id": "1d0720ad-99eb-442c-819b-e6d5b26828ad",
   "metadata": {},
   "outputs": [
    {
     "name": "stdout",
     "output_type": "stream",
     "text": [
      "Now the value is: 1\n",
      "Now the value is: 2\n",
      "Now the value is: 3\n",
      "Now the value is: 4\n",
      "Now the value is: 5\n",
      "Now the value is: 6\n",
      "Now the value is: 7\n",
      "Now the value is: 8\n",
      "Now the value is: 9\n",
      "I am eating: Apple\n",
      "I am eating: Kiwi\n",
      "I am eating: Tomato\n",
      "I am eating: Banana\n",
      "Now the value of count is: 0\n",
      "Now the value of count is: 1\n",
      "Now the value of count is: 2\n",
      "Now the value of count is: 3\n",
      "Now the value of count is: 4\n",
      "Now the value of count is: 5\n",
      "Now the value of count is: 6\n",
      "Now the value of count is: 7\n",
      "Now the value of count is: 8\n",
      "Now the value of count is: 9\n",
      "Now counting: 5\n",
      "----------------\n",
      "Now counting: 4\n",
      "----------------\n",
      "Now counting: 3\n",
      "----------------\n",
      "Now counting: 2\n",
      "----------------\n",
      "Now counting: 1\n",
      "----------------\n",
      "Loop ended\n",
      "range(1, 10)\n"
     ]
    }
   ],
   "source": [
    "#loops assingment\n",
    "\n",
    "for value in range(1,10):\n",
    "    print( \"Now the value is:\", value  )\n",
    "\n",
    "fruits = [ \"Apple\" , \"Kiwi\" , \"Tomato\" , \"Banana\"  ]\n",
    "\n",
    "for f in fruits:\n",
    "    print(\"I am eating:\" , f)\n",
    "\n",
    "# initialization of variable\n",
    "\n",
    "count = 0\n",
    "\n",
    "while count < 10 :\n",
    "    print(\"Now the value of count is:\" , count)\n",
    "#  #Terminator statement\n",
    "    count += 1\n",
    "\n",
    "\n",
    "count = 5\n",
    "\n",
    "while count > 0:\n",
    " print(\"Now counting:\", count )\n",
    " print(\"----------------\")\n",
    " count -= 1\n",
    "\n",
    "print(\"Loop ended\")\n",
    "\n",
    "\n",
    "\n",
    "\n",
    "\n",
    "print(  range(1,10) )\n",
    "\n",
    "# [ 1 , 2 , 3 , 4 ...... 9 ]"
   ]
  },
  {
   "cell_type": "code",
   "execution_count": null,
   "id": "0bdbd283-2c4a-43ac-a298-97d1b0f5cb88",
   "metadata": {},
   "outputs": [],
   "source": []
  }
 ],
 "metadata": {
  "kernelspec": {
   "display_name": "Python 3 (ipykernel)",
   "language": "python",
   "name": "python3"
  },
  "language_info": {
   "codemirror_mode": {
    "name": "ipython",
    "version": 3
   },
   "file_extension": ".py",
   "mimetype": "text/x-python",
   "name": "python",
   "nbconvert_exporter": "python",
   "pygments_lexer": "ipython3",
   "version": "3.11.7"
  }
 },
 "nbformat": 4,
 "nbformat_minor": 5
}
